{
 "cells": [
  {
   "cell_type": "code",
   "execution_count": 41,
   "metadata": {},
   "outputs": [],
   "source": [
    "from deepface import DeepFace\n",
    "from app.config.constants import ModelType, DistanceMetricType, BackendType,NormalizationType\n",
    "from app.face_detector import FaceDetector\n",
    "from deepface import DeepFace\n",
    "import time\n"
   ]
  },
  {
   "cell_type": "code",
   "execution_count": 40,
   "metadata": {},
   "outputs": [],
   "source": [
    "model = ModelType.VGG_Face.value\n",
    "distance_metric = DistanceMetricType.cosine.value\n",
    "backend = BackendType.ssd.value\n",
    "normalization = NormalizationType.base.value"
   ]
  },
  {
   "cell_type": "code",
   "execution_count": 42,
   "metadata": {},
   "outputs": [],
   "source": [
    "image_path = './faces/72391682.jpg'\n",
    "image_path2 = './dnis/70543329.jpg'\n",
    "other = './faces/42728462.jpg'\n",
    "jorge= './query/jorge.jpeg'"
   ]
  },
  {
   "cell_type": "code",
   "execution_count": 46,
   "metadata": {},
   "outputs": [
    {
     "name": "stdout",
     "output_type": "stream",
     "text": [
      "Execution time:  0.7140474319458008\n",
      "{'verified': True, 'distance': 0.4621270530811744, 'threshold': 0.68, 'model': 'VGG-Face', 'detector_backend': 'ssd', 'similarity_metric': 'cosine', 'facial_areas': {'img1': {'x': 85, 'y': 86, 'w': 252, 'h': 343, 'left_eye': (266, 214), 'right_eye': (154, 220)}, 'img2': {'x': 352, 'y': 448, 'w': 524, 'h': 757, 'left_eye': (722, 733), 'right_eye': (470, 741)}}, 'time': 0.71}\n"
     ]
    }
   ],
   "source": [
    "start_time = time.time()\n",
    "very = DeepFace.verify(\n",
    "    image_path, \n",
    "    jorge, \n",
    "    model_name=model, \n",
    "    distance_metric=distance_metric, \n",
    "    detector_backend=backend,\n",
    "    normalization=normalization,\n",
    "    # align=True\n",
    "    )\n",
    "end_time = time.time()\n",
    "\n",
    "#seconds\n",
    "print(\"Execution time: \", end_time-start_time)\n",
    "print(very)"
   ]
  }
 ],
 "metadata": {
  "kernelspec": {
   "display_name": "facial-recognition-reload",
   "language": "python",
   "name": "python3"
  },
  "language_info": {
   "codemirror_mode": {
    "name": "ipython",
    "version": 3
   },
   "file_extension": ".py",
   "mimetype": "text/x-python",
   "name": "python",
   "nbconvert_exporter": "python",
   "pygments_lexer": "ipython3",
   "version": "3.9.19"
  }
 },
 "nbformat": 4,
 "nbformat_minor": 2
}
