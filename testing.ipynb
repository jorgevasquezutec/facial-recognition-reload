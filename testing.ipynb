{
 "cells": [
  {
   "cell_type": "code",
   "execution_count": 1,
   "metadata": {},
   "outputs": [
    {
     "name": "stderr",
     "output_type": "stream",
     "text": [
      "2024-04-22 01:51:22.606472: I tensorflow/core/platform/cpu_feature_guard.cc:210] This TensorFlow binary is optimized to use available CPU instructions in performance-critical operations.\n",
      "To enable the following instructions: AVX2 FMA, in other operations, rebuild TensorFlow with the appropriate compiler flags.\n",
      "2024-04-22 01:51:23.257957: W tensorflow/compiler/tf2tensorrt/utils/py_utils.cc:38] TF-TRT Warning: Could not find TensorRT\n"
     ]
    }
   ],
   "source": [
    "from deepface import DeepFace\n",
    "from app.config.constants import ModelType, DistanceMetricType, BackendType\n"
   ]
  },
  {
   "cell_type": "code",
   "execution_count": 2,
   "metadata": {},
   "outputs": [],
   "source": [
    "model = ModelType.GhostFaceNet.value\n",
    "distance_metric = DistanceMetricType.cosine.value\n",
    "backend = BackendType.retinaface.value"
   ]
  },
  {
   "cell_type": "code",
   "execution_count": 3,
   "metadata": {},
   "outputs": [],
   "source": [
    "image_path = './dnis/00469772.jpg'"
   ]
  },
  {
   "cell_type": "code",
   "execution_count": 4,
   "metadata": {},
   "outputs": [
    {
     "name": "stderr",
     "output_type": "stream",
     "text": [
      "2024-04-22 01:51:28.425589: I external/local_xla/xla/stream_executor/cuda/cuda_executor.cc:998] successful NUMA node read from SysFS had negative value (-1), but there must be at least one NUMA node, so returning NUMA node zero. See more at https://github.com/torvalds/linux/blob/v6.0/Documentation/ABI/testing/sysfs-bus-pci#L344-L355\n",
      "2024-04-22 01:51:28.426853: W tensorflow/core/common_runtime/gpu/gpu_device.cc:2251] Cannot dlopen some GPU libraries. Please make sure the missing libraries mentioned above are installed properly if you would like to use GPU. Follow the guide at https://www.tensorflow.org/install/gpu for how to download and setup the required libraries for your platform.\n",
      "Skipping registering GPU devices...\n"
     ]
    }
   ],
   "source": [
    "image_embeding_obj= DeepFace.represent(image_path, model_name=model , detector_backend=backend,enforce_detection=False)"
   ]
  },
  {
   "cell_type": "code",
   "execution_count": 10,
   "metadata": {},
   "outputs": [
    {
     "name": "stdout",
     "output_type": "stream",
     "text": [
      "512\n"
     ]
    }
   ],
   "source": [
    "print(len(image_embeding_obj[0]['embedding']))"
   ]
  },
  {
   "cell_type": "code",
   "execution_count": 30,
   "metadata": {},
   "outputs": [
    {
     "name": "stdout",
     "output_type": "stream",
     "text": [
      "{'embedding': [0.04549344629049301, 0.07664547115564346, -0.00978484470397234, -0.012296674773097038, -0.0005188213544897735, 0.17851775884628296, 0.06716594845056534, -0.02677667699754238, -0.04718479886651039, -0.11396217346191406, 0.038726646453142166, 0.1095917746424675, 0.09598592668771744, -0.2553340494632721, -0.1648302972316742, -0.03127340227365494, -0.1660180389881134, 0.04151594638824463, -0.20187805593013763, 0.07172155380249023, 0.18812178075313568, 0.002246922580525279, -0.07306692004203796, 0.041598185896873474, -0.06801477819681168, 0.0011199540458619595, -0.10460613667964935, -0.17698617279529572, 0.020088709890842438, 0.12088030576705933, 0.003384227864444256, 0.05667858570814133, -0.11455134302377701, 0.0986834168434143, 0.037182535976171494, -0.082365483045578, -0.06276421993970871, 0.010051646269857883, 0.021053146570920944, 0.01583857834339142, 0.054809607565402985, -0.13439995050430298, 0.013589750975370407, 0.1727651059627533, -0.041705403476953506, -0.10391426086425781, 0.1332947462797165, -0.02054630219936371, -0.16766774654388428, 0.05052530765533447, 0.06605314463376999, -0.043579865247011185, -0.08754496276378632, 0.03034091740846634, 0.01865520142018795, -0.008823108859360218, -0.06981279700994492, 0.0751069039106369, -0.06048275902867317, -0.08683285862207413, -0.005640488583594561, -0.01363699696958065, 0.16810187697410583, -0.017153583467006683, 0.043343160301446915, -0.21637177467346191, 0.04227345436811447, -0.09466993063688278, -0.08606065809726715, -0.00491924537345767, -0.02788645215332508, -0.02750704064965248, -0.011605539359152317, 0.010572436265647411, -0.05889357253909111, -0.02591085433959961, -0.06583831459283829, 0.009790577925741673, -0.016513146460056305, 0.19046509265899658, 0.011401145718991756, -0.02602013759315014, 0.04683123156428337, 0.04948246851563454, -0.10441993921995163, 0.04510924965143204, 0.1173994168639183, -0.05497882515192032, -0.04040401428937912, 0.03616408258676529, 0.02770475298166275, -0.1831950694322586, -0.10578980296850204, 0.03591765835881233, -0.15544618666172028, -0.021964481100440025, -0.010676923207938671, 0.016116399317979813, -0.027490539476275444, 0.027600813657045364, 0.013761109672486782, 0.09488485008478165, -0.08471875637769699, 0.19477839767932892, 0.011958565562963486, -0.026071056723594666, -0.03941797837615013, 0.2662724554538727, -0.07488556951284409, -0.012869717553257942, -0.002671388676390052, 0.013261578977108002, -0.19961272180080414, 0.019774874672293663, -0.019669877365231514, 0.06148220971226692, -0.09350181370973587, -0.012400916777551174, 0.0194812323898077, 0.0979657992720604, 0.005389486439526081, 0.006373115815222263, -0.012715439312160015, -0.0033848269376903772, 0.04377106577157974, -0.01696815900504589, -0.018542462959885597, -0.042137205600738525], 'facial_area': {'x': 66, 'y': 151, 'w': 292, 'h': 292, 'left_eye': (264, 260), 'right_eye': (155, 260)}, 'face_confidence': 0.9}\n"
     ]
    },
    {
     "ename": "IndexError",
     "evalue": "list index out of range",
     "output_type": "error",
     "traceback": [
      "\u001b[0;31m---------------------------------------------------------------------------\u001b[0m",
      "\u001b[0;31mIndexError\u001b[0m                                Traceback (most recent call last)",
      "Cell \u001b[0;32mIn[30], line 2\u001b[0m\n\u001b[1;32m      1\u001b[0m \u001b[38;5;28mprint\u001b[39m(image_embeding_obj[\u001b[38;5;241m0\u001b[39m])\n\u001b[0;32m----> 2\u001b[0m \u001b[38;5;28mprint\u001b[39m(\u001b[43mimage_embeding_obj\u001b[49m\u001b[43m[\u001b[49m\u001b[38;5;241;43m1\u001b[39;49m\u001b[43m]\u001b[49m)\n",
      "\u001b[0;31mIndexError\u001b[0m: list index out of range"
     ]
    }
   ],
   "source": [
    "print(image_embeding_obj[0])"
   ]
  }
 ],
 "metadata": {
  "kernelspec": {
   "display_name": "facial-recognition-reload",
   "language": "python",
   "name": "python3"
  },
  "language_info": {
   "codemirror_mode": {
    "name": "ipython",
    "version": 3
   },
   "file_extension": ".py",
   "mimetype": "text/x-python",
   "name": "python",
   "nbconvert_exporter": "python",
   "pygments_lexer": "ipython3",
   "version": "3.9.19"
  }
 },
 "nbformat": 4,
 "nbformat_minor": 2
}
