{
 "cells": [
  {
   "cell_type": "code",
   "execution_count": 1,
   "metadata": {},
   "outputs": [
    {
     "name": "stderr",
     "output_type": "stream",
     "text": [
      "2024-04-24 00:14:33.468396: I tensorflow/core/platform/cpu_feature_guard.cc:210] This TensorFlow binary is optimized to use available CPU instructions in performance-critical operations.\n",
      "To enable the following instructions: AVX2 FMA, in other operations, rebuild TensorFlow with the appropriate compiler flags.\n",
      "2024-04-24 00:14:34.129484: W tensorflow/compiler/tf2tensorrt/utils/py_utils.cc:38] TF-TRT Warning: Could not find TensorRT\n"
     ]
    }
   ],
   "source": [
    "from deepface import DeepFace\n",
    "from app.config.constants import ModelType, DistanceMetricType, BackendType,NormalizationType\n",
    "from app.face_detector import FaceDetector\n",
    "from deepface import DeepFace\n",
    "import time\n"
   ]
  },
  {
   "cell_type": "code",
   "execution_count": 2,
   "metadata": {},
   "outputs": [],
   "source": [
    "model = ModelType.Facenet.value\n",
    "distance_metric = DistanceMetricType.cosine.value\n",
    "backend = BackendType.retinaface.value\n",
    "normalization = NormalizationType.base.value"
   ]
  },
  {
   "cell_type": "code",
   "execution_count": 8,
   "metadata": {},
   "outputs": [],
   "source": [
    "image_path = './faces/72391682.jpg'\n",
    "image_path2 = './dnis/70543329.jpg'\n",
    "other = './faces/42728462.jpg'\n",
    "jorge= './query/jorge.jpeg'"
   ]
  },
  {
   "cell_type": "code",
   "execution_count": 11,
   "metadata": {},
   "outputs": [],
   "source": [
    "verify = DeepFace.verify(image_path, jorge, model_name = model, distance_metric = distance_metric,  detector_backend= backend, normalization = normalization)"
   ]
  },
  {
   "cell_type": "code",
   "execution_count": 12,
   "metadata": {},
   "outputs": [
    {
     "data": {
      "text/plain": [
       "{'verified': True,\n",
       " 'distance': 0.20745570521627643,\n",
       " 'threshold': 0.4,\n",
       " 'model': 'Facenet',\n",
       " 'detector_backend': 'retinaface',\n",
       " 'similarity_metric': 'cosine',\n",
       " 'facial_areas': {'img1': {'x': 91,\n",
       "   'y': 91,\n",
       "   'w': 245,\n",
       "   'h': 336,\n",
       "   'left_eye': (271, 212),\n",
       "   'right_eye': (154, 216)},\n",
       "  'img2': {'x': 326,\n",
       "   'y': 437,\n",
       "   'w': 560,\n",
       "   'h': 792,\n",
       "   'left_eye': (740, 741),\n",
       "   'right_eye': (471, 737)}},\n",
       " 'time': 3.58}"
      ]
     },
     "execution_count": 12,
     "metadata": {},
     "output_type": "execute_result"
    }
   ],
   "source": [
    "verify"
   ]
  },
  {
   "cell_type": "code",
   "execution_count": 3,
   "metadata": {},
   "outputs": [],
   "source": [
    "other1='./other3/71710733.jpg'"
   ]
  },
  {
   "cell_type": "code",
   "execution_count": 4,
   "metadata": {},
   "outputs": [
    {
     "name": "stderr",
     "output_type": "stream",
     "text": [
      "2024-04-24 00:15:04.486570: I external/local_xla/xla/stream_executor/cuda/cuda_executor.cc:998] successful NUMA node read from SysFS had negative value (-1), but there must be at least one NUMA node, so returning NUMA node zero. See more at https://github.com/torvalds/linux/blob/v6.0/Documentation/ABI/testing/sysfs-bus-pci#L344-L355\n",
      "2024-04-24 00:15:04.487012: W tensorflow/core/common_runtime/gpu/gpu_device.cc:2251] Cannot dlopen some GPU libraries. Please make sure the missing libraries mentioned above are installed properly if you would like to use GPU. Follow the guide at https://www.tensorflow.org/install/gpu for how to download and setup the required libraries for your platform.\n",
      "Skipping registering GPU devices...\n",
      "2024-04-24 00:15:21.430281: W external/local_tsl/tsl/framework/cpu_allocator_impl.cc:83] Allocation of 94633984 exceeds 10% of free system memory.\n",
      "2024-04-24 00:15:21.486586: W external/local_tsl/tsl/framework/cpu_allocator_impl.cc:83] Allocation of 95266816 exceeds 10% of free system memory.\n",
      "2024-04-24 00:15:21.703200: W external/local_tsl/tsl/framework/cpu_allocator_impl.cc:83] Allocation of 94633984 exceeds 10% of free system memory.\n",
      "2024-04-24 00:15:21.749470: W external/local_tsl/tsl/framework/cpu_allocator_impl.cc:83] Allocation of 94633984 exceeds 10% of free system memory.\n",
      "2024-04-24 00:15:21.784809: W external/local_tsl/tsl/framework/cpu_allocator_impl.cc:83] Allocation of 94633984 exceeds 10% of free system memory.\n"
     ]
    }
   ],
   "source": [
    "embedding = DeepFace.represent(other1, model_name = model, detector_backend = backend, normalization = normalization)"
   ]
  },
  {
   "cell_type": "code",
   "execution_count": 5,
   "metadata": {},
   "outputs": [
    {
     "name": "stdout",
     "output_type": "stream",
     "text": [
      "[{'embedding': [-0.19448813796043396, -1.455409049987793, 0.24739819765090942, -1.3522690534591675, -0.44034722447395325, -1.2989084720611572, -0.501928985118866, -0.09802111983299255, -1.1377172470092773, -0.36013686656951904, 1.2112599611282349, 0.1674281805753708, 1.2959027290344238, -1.8544474840164185, 1.098577618598938, 0.6975890398025513, 2.281888246536255, -1.0161267518997192, 0.8265835642814636, 0.29116183519363403, -0.47312384843826294, -0.9764682650566101, -1.9742975234985352, 0.6009841561317444, -0.7768440842628479, 0.43085524439811707, 0.6987496614456177, 1.232651948928833, 0.4474560022354126, -1.253866195678711, -0.9252580404281616, 0.3546394407749176, -0.8776100873947144, -1.6559991836547852, 0.7991534471511841, 0.8091928362846375, -1.7491514682769775, 0.3161972165107727, 0.9478368163108826, 0.002599462866783142, 0.3333660662174225, -0.02139904722571373, 0.2668507397174835, -0.09641952067613602, 0.04786723852157593, -0.9146583676338196, 1.214208960533142, -0.13750997185707092, -1.0136278867721558, 0.006586134433746338, -0.6906796097755432, 0.9849329590797424, 0.013625208288431168, -0.45366716384887695, 0.025648802518844604, 0.1427048295736313, 0.4882642328739166, -0.4378169775009155, 0.6912362575531006, 0.7355049252510071, 0.9940325617790222, -0.665901243686676, 0.13961781561374664, 0.8781877756118774, 0.03718335181474686, 0.8317479491233826, 1.3356411457061768, -1.1628170013427734, 0.4338971674442291, 0.06184036284685135, -0.9628292322158813, -0.9146538972854614, -0.4355406165122986, -0.27254635095596313, 1.4364088773727417, 1.2867203950881958, -0.5577099323272705, 0.15920983254909515, -0.2237023115158081, -1.140687346458435, -0.2970631718635559, 0.09852569550275803, -2.0513811111450195, -0.824623167514801, 2.8491718769073486, -1.554180383682251, 0.06274197995662689, -1.163537621498108, -0.9695025682449341, 0.6972790956497192, -0.16533830761909485, 0.3802635967731476, 0.759364128112793, -0.04365595430135727, -0.3142501711845398, 0.08967647701501846, -0.17424581944942474, 0.5302450060844421, -1.0073943138122559, -0.3704126477241516, 0.6849627494812012, 0.18129956722259521, 1.9334752559661865, -0.44282808899879456, 0.9260391592979431, 0.9599630832672119, 0.2058495283126831, 1.5211783647537231, -0.27634066343307495, -0.05405194312334061, 1.117238163948059, 1.4393362998962402, 0.4598129987716675, -0.3286398649215698, -1.1560412645339966, -0.15575625002384186, -0.5288337469100952, 1.2094205617904663, -0.6049428582191467, 0.7928763031959534, 0.8365718722343445, 0.30199161171913147, 0.03353637456893921, 0.22956699132919312, 1.0250279903411865, -0.5611104965209961, -0.6330697536468506, -1.4780253171920776], 'facial_area': {'x': 107, 'y': 132, 'w': 214, 'h': 304, 'left_eye': (263, 247), 'right_eye': (162, 246)}, 'face_confidence': 1.0}]\n"
     ]
    }
   ],
   "source": [
    "print(embedding)"
   ]
  },
  {
   "cell_type": "code",
   "execution_count": 33,
   "metadata": {},
   "outputs": [
    {
     "data": {
      "text/plain": [
       "128"
      ]
     },
     "execution_count": 33,
     "metadata": {},
     "output_type": "execute_result"
    }
   ],
   "source": [
    "embed = embedding[0]['embedding']\n",
    "len(embed)"
   ]
  }
 ],
 "metadata": {
  "kernelspec": {
   "display_name": "facial-recognition-reload",
   "language": "python",
   "name": "python3"
  },
  "language_info": {
   "codemirror_mode": {
    "name": "ipython",
    "version": 3
   },
   "file_extension": ".py",
   "mimetype": "text/x-python",
   "name": "python",
   "nbconvert_exporter": "python",
   "pygments_lexer": "ipython3",
   "version": "3.9.19"
  }
 },
 "nbformat": 4,
 "nbformat_minor": 2
}
