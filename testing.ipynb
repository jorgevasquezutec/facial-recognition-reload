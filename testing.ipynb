{
 "cells": [
  {
   "cell_type": "code",
   "execution_count": 21,
   "metadata": {},
   "outputs": [],
   "source": [
    "from deepface import DeepFace\n",
    "from app.config.constants import ModelType, DistanceMetricType, BackendType,NormalizationType\n",
    "from app.face_detector import FaceDetector\n",
    "from deepface import DeepFace\n",
    "import time\n"
   ]
  },
  {
   "cell_type": "code",
   "execution_count": 26,
   "metadata": {},
   "outputs": [],
   "source": [
    "model = ModelType.Facenet.value\n",
    "distance_metric = DistanceMetricType.cosine.value\n",
    "backend = BackendType.retinaface.value\n",
    "normalization = NormalizationType.ArcFace.value"
   ]
  },
  {
   "cell_type": "code",
   "execution_count": 27,
   "metadata": {},
   "outputs": [],
   "source": [
    "image_path = './faces/72391682.jpg'\n",
    "image_path2 = './dnis/70543329.jpg'\n",
    "other = './faces/42728462.jpg'\n",
    "jorge= './query/jorge.jpeg'"
   ]
  },
  {
   "cell_type": "code",
   "execution_count": 35,
   "metadata": {},
   "outputs": [],
   "source": [
    "verify = DeepFace.verify(image_path, jorge, model_name = model, distance_metric = distance_metric,  detector_backend= backend, normalization = normalization)"
   ]
  },
  {
   "cell_type": "code",
   "execution_count": 36,
   "metadata": {},
   "outputs": [
    {
     "data": {
      "text/plain": [
       "{'verified': True,\n",
       " 'distance': 0.207574690763473,\n",
       " 'threshold': 0.4,\n",
       " 'model': 'Facenet',\n",
       " 'detector_backend': 'retinaface',\n",
       " 'similarity_metric': 'cosine',\n",
       " 'facial_areas': {'img1': {'x': 91,\n",
       "   'y': 91,\n",
       "   'w': 245,\n",
       "   'h': 336,\n",
       "   'left_eye': (271, 212),\n",
       "   'right_eye': (154, 216)},\n",
       "  'img2': {'x': 326,\n",
       "   'y': 437,\n",
       "   'w': 560,\n",
       "   'h': 792,\n",
       "   'left_eye': (740, 741),\n",
       "   'right_eye': (471, 737)}},\n",
       " 'time': 3.67}"
      ]
     },
     "execution_count": 36,
     "metadata": {},
     "output_type": "execute_result"
    }
   ],
   "source": [
    "verify"
   ]
  },
  {
   "cell_type": "code",
   "execution_count": 31,
   "metadata": {},
   "outputs": [],
   "source": [
    "embedding = DeepFace.represent(image_path, model_name = model, detector_backend = backend, normalization = normalization)"
   ]
  },
  {
   "cell_type": "code",
   "execution_count": 33,
   "metadata": {},
   "outputs": [
    {
     "data": {
      "text/plain": [
       "128"
      ]
     },
     "execution_count": 33,
     "metadata": {},
     "output_type": "execute_result"
    }
   ],
   "source": [
    "embed = embedding[0]['embedding']\n",
    "len(embed)"
   ]
  }
 ],
 "metadata": {
  "kernelspec": {
   "display_name": "facial-recognition-reload",
   "language": "python",
   "name": "python3"
  },
  "language_info": {
   "codemirror_mode": {
    "name": "ipython",
    "version": 3
   },
   "file_extension": ".py",
   "mimetype": "text/x-python",
   "name": "python",
   "nbconvert_exporter": "python",
   "pygments_lexer": "ipython3",
   "version": "3.9.19"
  }
 },
 "nbformat": 4,
 "nbformat_minor": 2
}
