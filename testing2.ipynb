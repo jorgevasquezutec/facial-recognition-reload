{
 "cells": [
  {
   "cell_type": "code",
   "execution_count": 2,
   "metadata": {},
   "outputs": [
    {
     "name": "stderr",
     "output_type": "stream",
     "text": [
      "2024-04-24 00:17:33.775057: I tensorflow/core/platform/cpu_feature_guard.cc:210] This TensorFlow binary is optimized to use available CPU instructions in performance-critical operations.\n",
      "To enable the following instructions: AVX2 FMA, in other operations, rebuild TensorFlow with the appropriate compiler flags.\n",
      "2024-04-24 00:17:34.490598: W tensorflow/compiler/tf2tensorrt/utils/py_utils.cc:38] TF-TRT Warning: Could not find TensorRT\n"
     ]
    }
   ],
   "source": [
    "from app.dependency import DetectorInstance"
   ]
  },
  {
   "cell_type": "code",
   "execution_count": 3,
   "metadata": {},
   "outputs": [],
   "source": [
    "detector = DetectorInstance()"
   ]
  },
  {
   "cell_type": "code",
   "execution_count": 4,
   "metadata": {},
   "outputs": [],
   "source": [
    "other1='./other3/71710733.jpg'"
   ]
  },
  {
   "cell_type": "code",
   "execution_count": 5,
   "metadata": {},
   "outputs": [
    {
     "name": "stderr",
     "output_type": "stream",
     "text": [
      "2024-04-24 00:18:03.383454: I external/local_xla/xla/stream_executor/cuda/cuda_executor.cc:998] successful NUMA node read from SysFS had negative value (-1), but there must be at least one NUMA node, so returning NUMA node zero. See more at https://github.com/torvalds/linux/blob/v6.0/Documentation/ABI/testing/sysfs-bus-pci#L344-L355\n",
      "2024-04-24 00:18:03.384193: W tensorflow/core/common_runtime/gpu/gpu_device.cc:2251] Cannot dlopen some GPU libraries. Please make sure the missing libraries mentioned above are installed properly if you would like to use GPU. Follow the guide at https://www.tensorflow.org/install/gpu for how to download and setup the required libraries for your platform.\n",
      "Skipping registering GPU devices...\n",
      "2024-04-24 00:18:20.261790: W external/local_tsl/tsl/framework/cpu_allocator_impl.cc:83] Allocation of 94633984 exceeds 10% of free system memory.\n",
      "2024-04-24 00:18:20.335472: W external/local_tsl/tsl/framework/cpu_allocator_impl.cc:83] Allocation of 95266816 exceeds 10% of free system memory.\n",
      "2024-04-24 00:18:20.403413: W external/local_tsl/tsl/framework/cpu_allocator_impl.cc:83] Allocation of 94633984 exceeds 10% of free system memory.\n",
      "2024-04-24 00:18:20.452234: W external/local_tsl/tsl/framework/cpu_allocator_impl.cc:83] Allocation of 94633984 exceeds 10% of free system memory.\n",
      "2024-04-24 00:18:20.492088: W external/local_tsl/tsl/framework/cpu_allocator_impl.cc:83] Allocation of 94633984 exceeds 10% of free system memory.\n"
     ]
    }
   ],
   "source": [
    "embeding = detector.get_image_embedding(other1)"
   ]
  }
 ],
 "metadata": {
  "kernelspec": {
   "display_name": "facial-recognition-reload",
   "language": "python",
   "name": "python3"
  },
  "language_info": {
   "codemirror_mode": {
    "name": "ipython",
    "version": 3
   },
   "file_extension": ".py",
   "mimetype": "text/x-python",
   "name": "python",
   "nbconvert_exporter": "python",
   "pygments_lexer": "ipython3",
   "version": "3.9.19"
  }
 },
 "nbformat": 4,
 "nbformat_minor": 2
}
